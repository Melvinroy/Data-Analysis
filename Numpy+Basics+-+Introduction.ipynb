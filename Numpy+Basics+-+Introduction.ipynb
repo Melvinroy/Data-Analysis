{
 "cells": [
  {
   "cell_type": "markdown",
   "metadata": {},
   "source": [
    "## Numpy\n",
    "The Numpy library is the core library for scientific computing in Python. It provides a high performance multidimensional array object, and tools for working with these arrays.\n"
   ]
  },
  {
   "cell_type": "code",
   "execution_count": 1,
   "metadata": {
    "collapsed": true
   },
   "outputs": [],
   "source": [
    "# Import Convention\n",
    "import numpy as np"
   ]
  },
  {
   "cell_type": "code",
   "execution_count": 16,
   "metadata": {
    "collapsed": false
   },
   "outputs": [
    {
     "name": "stdout",
     "output_type": "stream",
     "text": [
      "[1 2 3]\n",
      "[[1 2 3]\n",
      " [4 5 6]\n",
      " [7 8 9]]\n",
      "[[ 1.5  2.   3.2]\n",
      " [ 4.5  5.   6. ]\n",
      " [ 7.   8.2  9.2]]\n"
     ]
    }
   ],
   "source": [
    "# Creating Arrays\n",
    "\n",
    "a= np.array([1,2,3])\n",
    "print(a)\n",
    "\n",
    "b= np.array([(1,2,3), (4,5,6), (7.5,8,9)],dtype =int)\n",
    "print(b)\n",
    "\n",
    "c= np.array([(1.5,2,3.2), (4.5,5,6.0), (7,8.2,9.2)],dtype =float)\n",
    "print(c)\n"
   ]
  },
  {
   "cell_type": "code",
   "execution_count": 33,
   "metadata": {
    "collapsed": false
   },
   "outputs": [
    {
     "name": "stdout",
     "output_type": "stream",
     "text": [
      "[[ 0.  0.  0.  0.]\n",
      " [ 0.  0.  0.  0.]\n",
      " [ 0.  0.  0.  0.]]\n",
      "[[ 1.  1.  1.  1.]\n",
      " [ 1.  1.  1.  1.]\n",
      " [ 1.  1.  1.  1.]]\n",
      "[10 15 20]\n",
      "[ 0.    0.25  0.5   0.75  1.    1.25  1.5   1.75  2.  ]\n",
      "[[ 9.  9.]\n",
      " [ 9.  9.]]\n",
      "[[ 1.  0.]\n",
      " [ 0.  1.]]\n"
     ]
    },
    {
     "name": "stderr",
     "output_type": "stream",
     "text": [
      "C:\\ProgramData\\Anaconda3\\lib\\site-packages\\numpy\\core\\numeric.py:301: FutureWarning: in the future, full((2, 2), 9) will return an array of dtype('int32')\n",
      "  format(shape, fill_value, array(fill_value).dtype), FutureWarning)\n"
     ]
    }
   ],
   "source": [
    "# Initial Placeholders\n",
    "print(np.zeros((3,4))) # Create an array of zeros\n",
    "\n",
    "print(np.ones((3,4))) # Create an array of zeros\n",
    "\n",
    "print(np.arange(10,25,5)) # Create an array of evenly spaced values \n",
    "\n",
    "print(np.linspace(0,2,9))\n",
    "\n",
    "\n",
    "print(np.full((2,2),9)) # Creates a constant array\n",
    "\n"
   ]
  },
  {
   "cell_type": "code",
   "execution_count": 40,
   "metadata": {
    "collapsed": false,
    "scrolled": true
   },
   "outputs": [
    {
     "name": "stdout",
     "output_type": "stream",
     "text": [
      "[[ 1.  0.]\n",
      " [ 0.  1.]]\n",
      "[[ 0.66811555  0.79430812]\n",
      " [ 0.61131007  0.01057955]]\n",
      "[[  3.45845952e-322   0.00000000e+000]\n",
      " [  0.00000000e+000   0.00000000e+000]\n",
      " [  0.00000000e+000   0.00000000e+000]]\n"
     ]
    }
   ],
   "source": [
    "print(np.eye(2))\n",
    "\n",
    "print(np.random.random((2,2)))\n",
    "print(np.empty((3,2)))"
   ]
  },
  {
   "cell_type": "code",
   "execution_count": 46,
   "metadata": {
    "collapsed": false
   },
   "outputs": [
    {
     "data": {
      "text/plain": [
       "array([1, 2, 3])"
      ]
     },
     "execution_count": 46,
     "metadata": {},
     "output_type": "execute_result"
    }
   ],
   "source": [
    "# I/O \n",
    "# Saving & Loading On Disk\n",
    "\n",
    "np.save('D:/my_array',a)\n",
    "\n",
    "np.savez('D:/my_array.npz',a,b) # Saves \n",
    "\n",
    "np.load('my_array.npy')\n",
    "\n"
   ]
  },
  {
   "cell_type": "code",
   "execution_count": 54,
   "metadata": {
    "collapsed": false
   },
   "outputs": [
    {
     "data": {
      "text/plain": [
       "array(1234.0)"
      ]
     },
     "execution_count": 54,
     "metadata": {},
     "output_type": "execute_result"
    }
   ],
   "source": [
    "# Saving & Loading On Text Files\n",
    "np.loadtxt(\"D:/myfile.txt\")\n"
   ]
  },
  {
   "cell_type": "code",
   "execution_count": 58,
   "metadata": {
    "collapsed": false
   },
   "outputs": [
    {
     "data": {
      "text/plain": [
       "array([ 1.,  2.,  3.,  4.])"
      ]
     },
     "execution_count": 58,
     "metadata": {},
     "output_type": "execute_result"
    }
   ],
   "source": [
    "np.genfromtxt(\"D:/myfile.csv\",delimiter =',')"
   ]
  },
  {
   "cell_type": "code",
   "execution_count": 60,
   "metadata": {
    "collapsed": false
   },
   "outputs": [],
   "source": [
    "np.savetxt(\"D:/myfile.txt\",a,delimiter='')"
   ]
  },
  {
   "cell_type": "code",
   "execution_count": 65,
   "metadata": {
    "collapsed": false
   },
   "outputs": [
    {
     "name": "stdout",
     "output_type": "stream",
     "text": [
      "<class 'numpy.int64'>\n",
      "<class 'numpy.float32'>\n",
      "<class 'complex'>\n",
      "<class 'bool'>\n",
      "<class 'object'>\n",
      "<class 'numpy.bytes_'>\n",
      "<class 'numpy.str_'>\n"
     ]
    }
   ],
   "source": [
    "# Data Types\n",
    "print(np.int64)\n",
    "print(np.float32)\n",
    "print(np.complex)\n",
    "print(np.bool)\n",
    "print(np.object)\n",
    "print(np.string_)\n",
    "print(np.unicode_)"
   ]
  },
  {
   "cell_type": "code",
   "execution_count": 75,
   "metadata": {
    "collapsed": false
   },
   "outputs": [
    {
     "name": "stdout",
     "output_type": "stream",
     "text": [
      "(3, 3)\n",
      "3\n",
      "2\n",
      "9\n",
      "int32\n",
      "int32\n",
      "[[1 2 3]\n",
      " [4 5 6]\n",
      " [7 8 9]]\n"
     ]
    }
   ],
   "source": [
    "# Inspecting Your Array\n",
    "print(b.shape)\n",
    "print(len(b))\n",
    "print(b.ndim)\n",
    "print(b.size)\n",
    "print(b.dtype)\n",
    "print(b.dtype.name)\n",
    "print(b.astype(int))"
   ]
  },
  {
   "cell_type": "code",
   "execution_count": 76,
   "metadata": {
    "collapsed": false
   },
   "outputs": [
    {
     "name": "stdout",
     "output_type": "stream",
     "text": [
      "Data-type of the array's elements.\n",
      "\n",
      "Parameters\n",
      "----------\n",
      "None\n",
      "\n",
      "Returns\n",
      "-------\n",
      "d : numpy dtype object\n",
      "\n",
      "See Also\n",
      "--------\n",
      "numpy.dtype\n",
      "\n",
      "Examples\n",
      "--------\n",
      ">>> x\n",
      "array([[0, 1],\n",
      "       [2, 3]])\n",
      ">>> x.dtype\n",
      "dtype('int32')\n",
      ">>> type(x.dtype)\n",
      "<type 'numpy.dtype'>\n"
     ]
    }
   ],
   "source": [
    "# Asking for Help\n",
    "np.info(np.ndarray.dtype)"
   ]
  },
  {
   "cell_type": "code",
   "execution_count": 109,
   "metadata": {
    "collapsed": false
   },
   "outputs": [
    {
     "name": "stdout",
     "output_type": "stream",
     "text": [
      "[-3 -3 -3]\n",
      "[5 7 9]\n",
      "[5 7 9]\n",
      "[3 3 3]\n",
      "[ 4.   2.5  2. ]\n",
      "[ 4 10 18]\n",
      "[ 4 10 18]\n",
      "[  54.59815003  148.4131591   403.42879349]\n",
      "[ 2.          2.23606798  2.44948974]\n",
      "[-0.7568025  -0.95892427 -0.2794155 ]\n",
      "[-0.65364362  0.28366219  0.96017029]\n",
      "[ 1.38629436  1.60943791  1.79175947]\n",
      "[  54.59815003  148.4131591   403.42879349]\n"
     ]
    }
   ],
   "source": [
    "# Array Mathematics\n",
    "a= np.array([1,2,3])\n",
    "b= np.array([4,5,6])\n",
    "print(a-b)\n",
    "print(a+b)\n",
    "print(np.add(a,b))\n",
    "print(np.subtract(b,a))\n",
    "print(np.divide(b,a))\n",
    "print(a*b)\n",
    "print(np.multiply(b,a))\n",
    "print(np.exp(b))\n",
    "print(np.sqrt(b))\n",
    "print(np.sin(b))\n",
    "print(np.cos(b))\n",
    "print(np.log(b))\n",
    "print(np.exp(b))\n",
    "\n",
    "\n",
    "\n"
   ]
  },
  {
   "cell_type": "code",
   "execution_count": 113,
   "metadata": {
    "collapsed": false
   },
   "outputs": [
    {
     "name": "stdout",
     "output_type": "stream",
     "text": [
      "[False False False]\n",
      "[False False False]\n",
      "False\n"
     ]
    }
   ],
   "source": [
    "# Comparsion\n",
    "print(a==b)\n",
    "print(a>b)\n",
    "print(np.array_equal(a,b))"
   ]
  },
  {
   "cell_type": "code",
   "execution_count": 125,
   "metadata": {
    "collapsed": false,
    "scrolled": true
   },
   "outputs": [
    {
     "name": "stdout",
     "output_type": "stream",
     "text": [
      "6\n",
      "1\n",
      "3\n",
      "[1 3 6]\n",
      "2.0\n",
      "0.816496580928\n"
     ]
    }
   ],
   "source": [
    "# Aggregate Functions\n",
    "print(a.sum())\n",
    "print(a.min())\n",
    "print(a.max(axis=0))\n",
    "print(a.cumsum(axis=0))\n",
    "print(a.mean())\n",
    "print(np.std(a))\n",
    "\n"
   ]
  },
  {
   "cell_type": "code",
   "execution_count": 140,
   "metadata": {
    "collapsed": false
   },
   "outputs": [
    {
     "name": "stdout",
     "output_type": "stream",
     "text": [
      "[2 4 7]\n",
      "[2 4 7]\n",
      "[2 4 7]\n"
     ]
    }
   ],
   "source": [
    "# Copying Arrays\n",
    "print(a.view())\n",
    "print(np.copy(a))\n",
    "a = np.array([4,2,7])\n",
    "# Sorting Arrays\n",
    "a.sort()\n",
    "\n"
   ]
  },
  {
   "cell_type": "code",
   "execution_count": 153,
   "metadata": {
    "collapsed": false
   },
   "outputs": [],
   "source": [
    "# Subsetting ,Slicing ,Indexing \n",
    "a=  np.array([(4,2,7),(4,5,6)])\n"
   ]
  },
  {
   "cell_type": "code",
   "execution_count": 155,
   "metadata": {
    "collapsed": false
   },
   "outputs": [
    {
     "data": {
      "text/plain": [
       "7"
      ]
     },
     "execution_count": 155,
     "metadata": {},
     "output_type": "execute_result"
    }
   ],
   "source": [
    "a[0,2]"
   ]
  },
  {
   "cell_type": "code",
   "execution_count": 157,
   "metadata": {
    "collapsed": false
   },
   "outputs": [
    {
     "data": {
      "text/plain": [
       "array([[4, 2, 7]])"
      ]
     },
     "execution_count": 157,
     "metadata": {},
     "output_type": "execute_result"
    }
   ],
   "source": [
    "# Slicing\n",
    "a[0:1]"
   ]
  },
  {
   "cell_type": "code",
   "execution_count": 158,
   "metadata": {
    "collapsed": false
   },
   "outputs": [
    {
     "data": {
      "text/plain": [
       "array([2, 5])"
      ]
     },
     "execution_count": 158,
     "metadata": {},
     "output_type": "execute_result"
    }
   ],
   "source": [
    "a[0:2,1]"
   ]
  },
  {
   "cell_type": "code",
   "execution_count": 162,
   "metadata": {
    "collapsed": false
   },
   "outputs": [
    {
     "data": {
      "text/plain": [
       "array([[4, 2, 7],\n",
       "       [4, 5, 6]])"
      ]
     },
     "execution_count": 162,
     "metadata": {},
     "output_type": "execute_result"
    }
   ],
   "source": [
    "a[:2]"
   ]
  },
  {
   "cell_type": "code",
   "execution_count": 165,
   "metadata": {
    "collapsed": false
   },
   "outputs": [
    {
     "name": "stdout",
     "output_type": "stream",
     "text": [
      "[4 7 4 5 6]\n"
     ]
    }
   ],
   "source": [
    "# Bolean Indexing \n",
    "print(a[a>2])"
   ]
  },
  {
   "cell_type": "code",
   "execution_count": 166,
   "metadata": {
    "collapsed": false
   },
   "outputs": [
    {
     "data": {
      "text/plain": [
       "array([[4, 4],\n",
       "       [2, 5],\n",
       "       [7, 6]])"
      ]
     },
     "execution_count": 166,
     "metadata": {},
     "output_type": "execute_result"
    }
   ],
   "source": [
    "# Array Manipulation\n",
    "np.transpose(a)"
   ]
  },
  {
   "cell_type": "code",
   "execution_count": 170,
   "metadata": {
    "collapsed": false
   },
   "outputs": [
    {
     "data": {
      "text/plain": [
       "array([[4, 2],\n",
       "       [7, 4],\n",
       "       [5, 6]])"
      ]
     },
     "execution_count": 170,
     "metadata": {},
     "output_type": "execute_result"
    }
   ],
   "source": [
    "a.reshape(3,2)"
   ]
  },
  {
   "cell_type": "code",
   "execution_count": null,
   "metadata": {
    "collapsed": true
   },
   "outputs": [],
   "source": []
  }
 ],
 "metadata": {
  "kernelspec": {
   "display_name": "Python 3",
   "language": "python",
   "name": "python3"
  },
  "language_info": {
   "codemirror_mode": {
    "name": "ipython",
    "version": 3
   },
   "file_extension": ".py",
   "mimetype": "text/x-python",
   "name": "python",
   "nbconvert_exporter": "python",
   "pygments_lexer": "ipython3",
   "version": "3.6.0"
  }
 },
 "nbformat": 4,
 "nbformat_minor": 2
}
